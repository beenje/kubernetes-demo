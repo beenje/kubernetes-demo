{
 "cells": [
  {
   "cell_type": "markdown",
   "metadata": {},
   "source": [
    "# Kubernetes Demo"
   ]
  },
  {
   "cell_type": "markdown",
   "metadata": {},
   "source": [
    "**Acknowldegement**\n",
    "\n",
    "This demo basically follows the [official tutorial](https://kubernetes.io/docs/tutorials/kubernetes-basics/).\n",
    "Pictures are from the official documentation and are distributed under [CC BY 4.0](https://github.com/kubernetes/website/blob/master/LICENSE).\n",
    "\n",
    "Kubernetes is an open-source system for automating deployment, scaling, and management of containerized applications."
   ]
  },
  {
   "cell_type": "markdown",
   "metadata": {},
   "source": [
    "## Kubernetes cluster"
   ]
  },
  {
   "cell_type": "markdown",
   "metadata": {},
   "source": [
    "A Kubernetes cluster consists of two types of resources:\n",
    "- The Master coordinates the cluster\n",
    "- Nodes are the workers that run applications\n",
    "\n",
    "Each node includes:\n",
    "- kubelet agent\n",
    "- container runtime\n",
    "\n",
    "![](module_01_cluster.svg \"cluster\")"
   ]
  },
  {
   "cell_type": "markdown",
   "metadata": {},
   "source": [
    "### Minikube\n",
    "\n",
    "[Minikube](https://github.com/kubernetes/minikube) runs a single-node Kubernetes cluster inside a VM on your laptop"
   ]
  },
  {
   "cell_type": "code",
   "execution_count": 1,
   "metadata": {},
   "outputs": [
    {
     "name": "stdout",
     "output_type": "stream",
     "text": [
      "Starting local Kubernetes v1.8.0 cluster...\n",
      "Starting VM...\n",
      "Getting VM IP address...\n",
      "Moving files into cluster...\n",
      "Setting up certs...\n",
      "Connecting to cluster...\n",
      "Setting up kubeconfig...\n",
      "Starting cluster components...\n",
      "Kubectl is now configured to use the cluster.\n",
      "Loading cached images from config file.\n"
     ]
    }
   ],
   "source": [
    "minikube start"
   ]
  },
  {
   "cell_type": "code",
   "execution_count": 2,
   "metadata": {},
   "outputs": [
    {
     "name": "stdout",
     "output_type": "stream",
     "text": [
      "minikube: Running\n",
      "cluster: Running\n",
      "kubectl: Correctly Configured: pointing to minikube-vm at 192.168.99.100\n"
     ]
    }
   ],
   "source": [
    "minikube status"
   ]
  },
  {
   "cell_type": "markdown",
   "metadata": {},
   "source": [
    "Access minikube via a GUI"
   ]
  },
  {
   "cell_type": "code",
   "execution_count": 3,
   "metadata": {},
   "outputs": [
    {
     "name": "stdout",
     "output_type": "stream",
     "text": [
      "Opening kubernetes dashboard in default browser...\n"
     ]
    }
   ],
   "source": [
    "minikube dashboard"
   ]
  },
  {
   "cell_type": "markdown",
   "metadata": {},
   "source": [
    "Access minikube via CLI with kubectl"
   ]
  },
  {
   "cell_type": "code",
   "execution_count": 4,
   "metadata": {},
   "outputs": [
    {
     "name": "stdout",
     "output_type": "stream",
     "text": [
      "Client Version: version.Info{Major:\"1\", Minor:\"8\", GitVersion:\"v1.8.4\", GitCommit:\"9befc2b8928a9426501d3bf62f72849d5cbcd5a3\", GitTreeState:\"clean\", BuildDate:\"2017-11-20T19:11:22Z\", GoVersion:\"go1.9.2\", Compiler:\"gc\", Platform:\"darwin/amd64\"}\n",
      "Server Version: version.Info{Major:\"1\", Minor:\"8\", GitVersion:\"v1.8.0\", GitCommit:\"0b9efaeb34a2fc51ff8e4d34ad9bc6375459c4a4\", GitTreeState:\"clean\", BuildDate:\"2017-11-29T22:43:34Z\", GoVersion:\"go1.9.1\", Compiler:\"gc\", Platform:\"linux/amd64\"}\n"
     ]
    }
   ],
   "source": [
    "kubectl version"
   ]
  },
  {
   "cell_type": "code",
   "execution_count": 5,
   "metadata": {},
   "outputs": [
    {
     "name": "stdout",
     "output_type": "stream",
     "text": [
      "\u001b[0;32mKubernetes master\u001b[0m is running at \u001b[0;33mhttps://192.168.99.100:8443\u001b[0m\n",
      "\n",
      "To further debug and diagnose cluster problems, use 'kubectl cluster-info dump'.\n"
     ]
    }
   ],
   "source": [
    "kubectl cluster-info"
   ]
  },
  {
   "cell_type": "code",
   "execution_count": 6,
   "metadata": {},
   "outputs": [
    {
     "name": "stdout",
     "output_type": "stream",
     "text": [
      "NAME       STATUS    ROLES     AGE       VERSION\n",
      "minikube   Ready     <none>    1d        v1.8.0\n"
     ]
    }
   ],
   "source": [
    "kubectl get nodes"
   ]
  },
  {
   "cell_type": "code",
   "execution_count": 7,
   "metadata": {},
   "outputs": [
    {
     "name": "stdout",
     "output_type": "stream",
     "text": [
      "apiVersion: v1\n",
      "clusters:\n",
      "- cluster:\n",
      "    certificate-authority: /Users/benjaminbertrand/.minikube/ca.crt\n",
      "    server: https://192.168.99.100:8443\n",
      "  name: minikube\n",
      "contexts:\n",
      "- context:\n",
      "    cluster: minikube\n",
      "    user: minikube\n",
      "  name: minikube\n",
      "current-context: minikube\n",
      "kind: Config\n",
      "preferences: {}\n",
      "users:\n",
      "- name: minikube\n",
      "  user:\n",
      "    client-certificate: /Users/benjaminbertrand/.minikube/client.crt\n",
      "    client-key: /Users/benjaminbertrand/.minikube/client.key\n"
     ]
    }
   ],
   "source": [
    "kubectl config view"
   ]
  },
  {
   "cell_type": "markdown",
   "metadata": {},
   "source": [
    "Access minikube via API"
   ]
  },
  {
   "cell_type": "code",
   "execution_count": 8,
   "metadata": {},
   "outputs": [
    {
     "name": "stdout",
     "output_type": "stream",
     "text": [
      "{\n",
      "  \"kind\": \"Status\",\n",
      "  \"apiVersion\": \"v1\",\n",
      "  \"metadata\": {\n",
      "    \n",
      "  },\n",
      "  \"status\": \"Failure\",\n",
      "  \"message\": \"Unauthorized\",\n",
      "  \"reason\": \"Unauthorized\",\n",
      "  \"code\": 401\n",
      "}"
     ]
    }
   ],
   "source": [
    "curl https://192.168.99.100:8443 --insecure"
   ]
  },
  {
   "cell_type": "code",
   "execution_count": 9,
   "metadata": {},
   "outputs": [],
   "source": [
    "# Run kubectl proxy in a terminal"
   ]
  },
  {
   "cell_type": "code",
   "execution_count": 10,
   "metadata": {},
   "outputs": [
    {
     "name": "stdout",
     "output_type": "stream",
     "text": [
      "{\n",
      "  \"paths\": [\n",
      "    \"/api\",\n",
      "    \"/api/v1\",\n",
      "    \"/apis\",\n",
      "    \"/apis/\",\n",
      "    \"/apis/admissionregistration.k8s.io\",\n",
      "    \"/apis/admissionregistration.k8s.io/v1alpha1\",\n",
      "    \"/apis/apiextensions.k8s.io\",\n",
      "    \"/apis/apiextensions.k8s.io/v1beta1\",\n",
      "    \"/apis/apiregistration.k8s.io\",\n",
      "    \"/apis/apiregistration.k8s.io/v1beta1\",\n",
      "    \"/apis/apps\",\n",
      "    \"/apis/apps/v1beta1\",\n",
      "    \"/apis/apps/v1beta2\",\n",
      "    \"/apis/authentication.k8s.io\",\n",
      "    \"/apis/authentication.k8s.io/v1\",\n",
      "    \"/apis/authentication.k8s.io/v1beta1\",\n",
      "    \"/apis/authorization.k8s.io\",\n",
      "    \"/apis/authorization.k8s.io/v1\",\n",
      "    \"/apis/authorization.k8s.io/v1beta1\",\n",
      "    \"/apis/autoscaling\",\n",
      "    \"/apis/autoscaling/v1\",\n",
      "    \"/apis/autoscaling/v2beta1\",\n",
      "    \"/apis/batch\",\n",
      "    \"/apis/batch/v1\",\n",
      "    \"/apis/batch/v1beta1\",\n",
      "    \"/apis/batch/v2alpha1\",\n",
      "    \"/apis/certificates.k8s.io\",\n",
      "    \"/apis/certificates.k8s.io/v1beta1\",\n",
      "    \"/apis/extensions\",\n",
      "    \"/apis/extensions/v1beta1\",\n",
      "    \"/apis/networking.k8s.io\",\n",
      "    \"/apis/networking.k8s.io/v1\",\n",
      "    \"/apis/policy\",\n",
      "    \"/apis/policy/v1beta1\",\n",
      "    \"/apis/rbac.authorization.k8s.io\",\n",
      "    \"/apis/rbac.authorization.k8s.io/v1\",\n",
      "    \"/apis/rbac.authorization.k8s.io/v1alpha1\",\n",
      "    \"/apis/rbac.authorization.k8s.io/v1beta1\",\n",
      "    \"/apis/scheduling.k8s.io\",\n",
      "    \"/apis/scheduling.k8s.io/v1alpha1\",\n",
      "    \"/apis/settings.k8s.io\",\n",
      "    \"/apis/settings.k8s.io/v1alpha1\",\n",
      "    \"/apis/storage.k8s.io\",\n",
      "    \"/apis/storage.k8s.io/v1\",\n",
      "    \"/apis/storage.k8s.io/v1beta1\",\n",
      "    \"/healthz\",\n",
      "    \"/healthz/autoregister-completion\",\n",
      "    \"/healthz/etcd\",\n",
      "    \"/healthz/ping\",\n",
      "    \"/healthz/poststarthook/apiservice-openapi-controller\",\n",
      "    \"/healthz/poststarthook/apiservice-registration-controller\",\n",
      "    \"/healthz/poststarthook/apiservice-status-available-controller\",\n",
      "    \"/healthz/poststarthook/bootstrap-controller\",\n",
      "    \"/healthz/poststarthook/ca-registration\",\n",
      "    \"/healthz/poststarthook/generic-apiserver-start-informers\",\n",
      "    \"/healthz/poststarthook/kube-apiserver-autoregistration\",\n",
      "    \"/healthz/poststarthook/start-apiextensions-controllers\",\n",
      "    \"/healthz/poststarthook/start-apiextensions-informers\",\n",
      "    \"/healthz/poststarthook/start-kube-aggregator-informers\",\n",
      "    \"/healthz/poststarthook/start-kube-apiserver-informers\",\n",
      "    \"/logs\",\n",
      "    \"/metrics\",\n",
      "    \"/swagger-2.0.0.json\",\n",
      "    \"/swagger-2.0.0.pb-v1\",\n",
      "    \"/swagger-2.0.0.pb-v1.gz\",\n",
      "    \"/swagger.json\",\n",
      "    \"/swaggerapi\",\n",
      "    \"/ui\",\n",
      "    \"/ui/\",\n",
      "    \"/version\"\n",
      "  ]\n",
      "}"
     ]
    }
   ],
   "source": [
    "curl http://localhost:8001/"
   ]
  },
  {
   "cell_type": "markdown",
   "metadata": {},
   "source": [
    "## Deployment\n",
    "\n",
    "A **deployment** instructs Kubernetes how to create and update instances of your application\n",
    "\n",
    "![](module_02_first_app.svg \"Deployment\")\n",
    "\n",
    "Application instances are hosted inside a **Pod**. A Pod is the smallest deployable object in the Kubernetes object model.\n",
    "A Pod represents a group of one or more application containers and some shared resources (storage, networking).\n",
    "\n",
    "![](module_03_pods.svg \"pods\")\n",
    "\n",
    "A Pod always runs on a **Node**\n",
    "\n",
    "![](module_03_nodes.svg)"
   ]
  },
  {
   "cell_type": "markdown",
   "metadata": {},
   "source": [
    "#### Let's deploy the *microbot* web application\n",
    "\n",
    "##### With docker we would just run:"
   ]
  },
  {
   "cell_type": "code",
   "execution_count": 11,
   "metadata": {},
   "outputs": [
    {
     "name": "stdout",
     "output_type": "stream",
     "text": [
      "62a4a36293bbe2a5c95079592604717ce972fd514e22bfa72e877a040d4fb344\n"
     ]
    }
   ],
   "source": [
    "docker run -d -p 8080:80 dontrebootme/microbot:v1"
   ]
  },
  {
   "cell_type": "code",
   "execution_count": 12,
   "metadata": {},
   "outputs": [
    {
     "name": "stdout",
     "output_type": "stream",
     "text": [
      "CONTAINER ID        IMAGE                      COMMAND                  CREATED             STATUS              PORTS                  NAMES\n",
      "62a4a36293bb        dontrebootme/microbot:v1   \"/bin/sh -c /start...\"   9 seconds ago       Up 8 seconds        0.0.0.0:8080->80/tcp   compassionate_haibt\n"
     ]
    }
   ],
   "source": [
    "docker ps"
   ]
  },
  {
   "cell_type": "code",
   "execution_count": 13,
   "metadata": {},
   "outputs": [
    {
     "name": "stdout",
     "output_type": "stream",
     "text": [
      "compassionate_haibt\n"
     ]
    }
   ],
   "source": [
    "docker stop compassionate_haibt"
   ]
  },
  {
   "cell_type": "markdown",
   "metadata": {},
   "source": [
    "##### With Kubernetes"
   ]
  },
  {
   "cell_type": "code",
   "execution_count": 14,
   "metadata": {},
   "outputs": [
    {
     "name": "stdout",
     "output_type": "stream",
     "text": [
      "deployment \"kubernetes-microbot\" created\n"
     ]
    }
   ],
   "source": [
    "kubectl run kubernetes-microbot --image=dontrebootme/microbot:v1 --port 80"
   ]
  },
  {
   "cell_type": "code",
   "execution_count": 15,
   "metadata": {},
   "outputs": [
    {
     "name": "stdout",
     "output_type": "stream",
     "text": [
      "NAME                  DESIRED   CURRENT   UP-TO-DATE   AVAILABLE   AGE\n",
      "kubernetes-microbot   1         1         1            1           3s\n"
     ]
    }
   ],
   "source": [
    "kubectl get deployments"
   ]
  },
  {
   "cell_type": "code",
   "execution_count": 16,
   "metadata": {},
   "outputs": [
    {
     "name": "stdout",
     "output_type": "stream",
     "text": [
      "NAME                                   READY     STATUS    RESTARTS   AGE\n",
      "kubernetes-microbot-7b78749599-ccn6l   1/1       Running   0          7s\n"
     ]
    }
   ],
   "source": [
    "kubectl get pods"
   ]
  },
  {
   "cell_type": "code",
   "execution_count": 17,
   "metadata": {},
   "outputs": [],
   "source": [
    "POD_NAME=kubernetes-microbot-7b78749599-ccn6l"
   ]
  },
  {
   "cell_type": "markdown",
   "metadata": {},
   "source": [
    "We can get more information about the Pod"
   ]
  },
  {
   "cell_type": "code",
   "execution_count": 18,
   "metadata": {},
   "outputs": [
    {
     "name": "stdout",
     "output_type": "stream",
     "text": [
      "Name:           kubernetes-microbot-7b78749599-ccn6l\n",
      "Namespace:      default\n",
      "Node:           minikube/192.168.99.100\n",
      "Start Time:     Mon, 04 Dec 2017 11:20:15 +0100\n",
      "Labels:         pod-template-hash=3634305155\n",
      "                run=kubernetes-microbot\n",
      "Annotations:    kubernetes.io/created-by={\"kind\":\"SerializedReference\",\"apiVersion\":\"v1\",\"reference\":{\"kind\":\"ReplicaSet\",\"namespace\":\"default\",\"name\":\"kubernetes-microbot-7b78749599\",\"uid\":\"b80cb235-d8dc-11e7-a20d-0...\n",
      "Status:         Running\n",
      "IP:             172.17.0.4\n",
      "Created By:     ReplicaSet/kubernetes-microbot-7b78749599\n",
      "Controlled By:  ReplicaSet/kubernetes-microbot-7b78749599\n",
      "Containers:\n",
      "  kubernetes-microbot:\n",
      "    Container ID:   docker://7ef945bd049a3014e1da91d51ba1d92607cf53b3b43db97e3eb7a4312ecded50\n",
      "    Image:          dontrebootme/microbot:v1\n",
      "    Image ID:       docker-pullable://dontrebootme/microbot@sha256:ec71565e9cad762bdbd3ecc382b26162f07cea81a803861bc1e5099758e46ee0\n",
      "    Port:           80/TCP\n",
      "    State:          Running\n",
      "      Started:      Mon, 04 Dec 2017 11:20:15 +0100\n",
      "    Ready:          True\n",
      "    Restart Count:  0\n",
      "    Environment:    <none>\n",
      "    Mounts:\n",
      "      /var/run/secrets/kubernetes.io/serviceaccount from default-token-dp5x6 (ro)\n",
      "Conditions:\n",
      "  Type           Status\n",
      "  Initialized    True \n",
      "  Ready          True \n",
      "  PodScheduled   True \n",
      "Volumes:\n",
      "  default-token-dp5x6:\n",
      "    Type:        Secret (a volume populated by a Secret)\n",
      "    SecretName:  default-token-dp5x6\n",
      "    Optional:    false\n",
      "QoS Class:       BestEffort\n",
      "Node-Selectors:  <none>\n",
      "Tolerations:     <none>\n",
      "Events:\n",
      "  Type    Reason                 Age   From               Message\n",
      "  ----    ------                 ----  ----               -------\n",
      "  Normal  Scheduled              30s   default-scheduler  Successfully assigned kubernetes-microbot-7b78749599-ccn6l to minikube\n",
      "  Normal  SuccessfulMountVolume  30s   kubelet, minikube  MountVolume.SetUp succeeded for volume \"default-token-dp5x6\"\n",
      "  Normal  Pulled                 30s   kubelet, minikube  Container image \"dontrebootme/microbot:v1\" already present on machine\n",
      "  Normal  Created                30s   kubelet, minikube  Created container\n",
      "  Normal  Started                30s   kubelet, minikube  Started container\n"
     ]
    }
   ],
   "source": [
    "kubectl describe pods"
   ]
  },
  {
   "cell_type": "code",
   "execution_count": 19,
   "metadata": {},
   "outputs": [],
   "source": [
    "kubectl logs $POD_NAME"
   ]
  },
  {
   "cell_type": "markdown",
   "metadata": {},
   "source": [
    "We can execute commands inside the Pod"
   ]
  },
  {
   "cell_type": "code",
   "execution_count": 20,
   "metadata": {},
   "outputs": [
    {
     "name": "stdout",
     "output_type": "stream",
     "text": [
      "PATH=/usr/local/sbin:/usr/local/bin:/usr/sbin:/usr/bin:/sbin:/bin\n",
      "HOSTNAME=kubernetes-microbot-7b78749599-ccn6l\n",
      "KUBERNETES_SERVICE_PORT_HTTPS=443\n",
      "KUBERNETES_PORT=tcp://10.96.0.1:443\n",
      "KUBERNETES_PORT_443_TCP=tcp://10.96.0.1:443\n",
      "KUBERNETES_PORT_443_TCP_PROTO=tcp\n",
      "KUBERNETES_PORT_443_TCP_PORT=443\n",
      "KUBERNETES_PORT_443_TCP_ADDR=10.96.0.1\n",
      "KUBERNETES_SERVICE_HOST=10.96.0.1\n",
      "KUBERNETES_SERVICE_PORT=443\n",
      "HOME=/root\n"
     ]
    }
   ],
   "source": [
    "kubectl exec $POD_NAME env"
   ]
  },
  {
   "cell_type": "code",
   "execution_count": 21,
   "metadata": {},
   "outputs": [
    {
     "name": "stdout",
     "output_type": "stream",
     "text": [
      "\u001b[1;34mbin\u001b[0m             \u001b[1;34mlib\u001b[0m             \u001b[1;34mproc\u001b[0m            \u001b[1;32mstart_nginx.sh\u001b[0m  \u001b[1;34mvar\u001b[0m\n",
      "\u001b[1;34mdev\u001b[0m             \u001b[1;36mlinuxrc\u001b[0m         \u001b[1;34mroot\u001b[0m            \u001b[1;34msys\u001b[0m\n",
      "\u001b[1;34metc\u001b[0m             \u001b[1;34mmedia\u001b[0m           \u001b[1;34mrun\u001b[0m             \u001b[1;34mtmp\u001b[0m\n",
      "\u001b[1;34mhome\u001b[0m            \u001b[1;34mmnt\u001b[0m             \u001b[1;34msbin\u001b[0m            \u001b[1;34musr\u001b[0m\n"
     ]
    }
   ],
   "source": [
    "kubectl exec -it $POD_NAME ls /"
   ]
  },
  {
   "cell_type": "code",
   "execution_count": 22,
   "metadata": {},
   "outputs": [
    {
     "name": "stdout",
     "output_type": "stream",
     "text": [
      "#!/bin/sh\n",
      "hostname=`hostname -f`\n",
      "sed -i \"s/XXX/${hostname}/\" /usr/share/nginx/html/index.html\n",
      "/usr/sbin/nginx\n"
     ]
    }
   ],
   "source": [
    "kubectl exec -it $POD_NAME cat /start_nginx.sh"
   ]
  },
  {
   "cell_type": "markdown",
   "metadata": {},
   "source": [
    "How to access our app?\n",
    "\n",
    "By default Pods are only visible from other pods and services within the same cluster.\n",
    "\n",
    "We can access Pods via the API (an endpoint is automatically created by the API server):"
   ]
  },
  {
   "cell_type": "code",
   "execution_count": 23,
   "metadata": {},
   "outputs": [
    {
     "name": "stdout",
     "output_type": "stream",
     "text": [
      "<!DOCTYPE html>\n",
      "<html>\n",
      "  <style type=\"text/css\">\n",
      "    .centered\n",
      "      {\n",
      "      text-align:center;\n",
      "      margin-top:0px;\n",
      "      margin-bottom:0px;\n",
      "      padding:0px;\n",
      "      }\n",
      "  </style>\n",
      "  <body>\n",
      "    <p class=\"centered\"><img src=\"microbot.png\" alt=\"microbot\"/></p>\n",
      "    <p class=\"centered\">Container hostname: kubernetes-microbot-7b78749599-ccn6l</p>\n",
      "  </body>\n",
      "</html>\n"
     ]
    }
   ],
   "source": [
    "curl http://localhost:8001/api/v1/proxy/namespaces/default/pods/$POD_NAME/"
   ]
  },
  {
   "cell_type": "markdown",
   "metadata": {},
   "source": [
    "To expose the application to the ouside world, we have to create a **Service**"
   ]
  },
  {
   "cell_type": "markdown",
   "metadata": {},
   "source": [
    "## Service\n",
    "\n",
    "- abstraction to define logical set of Pods and a policy by which to access them\n",
    "- route traffic across a set of Pods\n",
    "- match Pods using labels and selectors\n",
    "\n",
    "ServiceType:\n",
    "- ClusterIP (default): only reachable within the cluster\n",
    "- NodePort: Service accessible from outside the cluster using *NodeIP:NodePort*\n",
    "- LoadBalancer\n",
    "- ExternalName\n",
    "    \n",
    "![](module_04_services.svg)\n",
    "\n",
    "![](module_04_labels.svg)"
   ]
  },
  {
   "cell_type": "code",
   "execution_count": 25,
   "metadata": {},
   "outputs": [
    {
     "name": "stdout",
     "output_type": "stream",
     "text": [
      "NAME         TYPE        CLUSTER-IP   EXTERNAL-IP   PORT(S)   AGE\n",
      "kubernetes   ClusterIP   10.96.0.1    <none>        443/TCP   1d\n"
     ]
    }
   ],
   "source": [
    "kubectl get services"
   ]
  },
  {
   "cell_type": "markdown",
   "metadata": {},
   "source": [
    "Create a Service to expose microbot using the NodePort Service type"
   ]
  },
  {
   "cell_type": "code",
   "execution_count": 26,
   "metadata": {},
   "outputs": [
    {
     "name": "stdout",
     "output_type": "stream",
     "text": [
      "service \"kubernetes-microbot\" exposed\n"
     ]
    }
   ],
   "source": [
    "kubectl expose deployment/kubernetes-microbot --type=\"NodePort\" --port 80"
   ]
  },
  {
   "cell_type": "code",
   "execution_count": 28,
   "metadata": {},
   "outputs": [
    {
     "name": "stdout",
     "output_type": "stream",
     "text": [
      "NAME                  TYPE        CLUSTER-IP      EXTERNAL-IP   PORT(S)        AGE\n",
      "kubernetes            ClusterIP   10.96.0.1       <none>        443/TCP        1d\n",
      "kubernetes-microbot   NodePort    10.105.40.107   <none>        80:32303/TCP   7s\n"
     ]
    }
   ],
   "source": [
    "kubectl get services"
   ]
  },
  {
   "cell_type": "code",
   "execution_count": 29,
   "metadata": {},
   "outputs": [
    {
     "name": "stdout",
     "output_type": "stream",
     "text": [
      "Name:                     kubernetes-microbot\n",
      "Namespace:                default\n",
      "Labels:                   run=kubernetes-microbot\n",
      "Annotations:              <none>\n",
      "Selector:                 run=kubernetes-microbot\n",
      "Type:                     NodePort\n",
      "IP:                       10.105.40.107\n",
      "Port:                     <unset>  80/TCP\n",
      "TargetPort:               80/TCP\n",
      "NodePort:                 <unset>  32303/TCP\n",
      "Endpoints:                172.17.0.4:80\n",
      "Session Affinity:         None\n",
      "External Traffic Policy:  Cluster\n",
      "Events:                   <none>\n"
     ]
    }
   ],
   "source": [
    "kubectl describe services/kubernetes-microbot"
   ]
  },
  {
   "cell_type": "code",
   "execution_count": 30,
   "metadata": {},
   "outputs": [],
   "source": [
    "NODE_PORT=32303"
   ]
  },
  {
   "cell_type": "code",
   "execution_count": 31,
   "metadata": {},
   "outputs": [
    {
     "name": "stdout",
     "output_type": "stream",
     "text": [
      "192.168.99.100\n"
     ]
    }
   ],
   "source": [
    "minikube ip"
   ]
  },
  {
   "cell_type": "code",
   "execution_count": 32,
   "metadata": {},
   "outputs": [
    {
     "name": "stdout",
     "output_type": "stream",
     "text": [
      "<!DOCTYPE html>\n",
      "<html>\n",
      "  <style type=\"text/css\">\n",
      "    .centered\n",
      "      {\n",
      "      text-align:center;\n",
      "      margin-top:0px;\n",
      "      margin-bottom:0px;\n",
      "      padding:0px;\n",
      "      }\n",
      "  </style>\n",
      "  <body>\n",
      "    <p class=\"centered\"><img src=\"microbot.png\" alt=\"microbot\"/></p>\n",
      "    <p class=\"centered\">Container hostname: kubernetes-microbot-7b78749599-ccn6l</p>\n",
      "  </body>\n",
      "</html>\n"
     ]
    }
   ],
   "source": [
    "curl http://$(minikube ip):$NODE_PORT"
   ]
  },
  {
   "cell_type": "markdown",
   "metadata": {},
   "source": [
    "A label was automatically created for our Pod"
   ]
  },
  {
   "cell_type": "code",
   "execution_count": 34,
   "metadata": {},
   "outputs": [
    {
     "name": "stdout",
     "output_type": "stream",
     "text": [
      "Name:                   kubernetes-microbot\n",
      "Namespace:              default\n",
      "CreationTimestamp:      Mon, 04 Dec 2017 11:20:15 +0100\n",
      "Labels:                 run=kubernetes-microbot\n",
      "Annotations:            deployment.kubernetes.io/revision=1\n",
      "Selector:               run=kubernetes-microbot\n",
      "Replicas:               1 desired | 1 updated | 1 total | 1 available | 0 unavailable\n",
      "StrategyType:           RollingUpdate\n",
      "MinReadySeconds:        0\n",
      "RollingUpdateStrategy:  1 max unavailable, 1 max surge\n",
      "Pod Template:\n",
      "  Labels:  run=kubernetes-microbot\n",
      "  Containers:\n",
      "   kubernetes-microbot:\n",
      "    Image:        dontrebootme/microbot:v1\n",
      "    Port:         80/TCP\n",
      "    Environment:  <none>\n",
      "    Mounts:       <none>\n",
      "  Volumes:        <none>\n",
      "Conditions:\n",
      "  Type           Status  Reason\n",
      "  ----           ------  ------\n",
      "  Available      True    MinimumReplicasAvailable\n",
      "OldReplicaSets:  <none>\n",
      "NewReplicaSet:   kubernetes-microbot-7b78749599 (1/1 replicas created)\n",
      "Events:\n",
      "  Type    Reason             Age   From                   Message\n",
      "  ----    ------             ----  ----                   -------\n",
      "  Normal  ScalingReplicaSet  5m    deployment-controller  Scaled up replica set kubernetes-microbot-7b78749599 to 1\n"
     ]
    }
   ],
   "source": [
    "kubectl describe deployment"
   ]
  },
  {
   "cell_type": "markdown",
   "metadata": {},
   "source": [
    "Use the label to get the list of pods or services"
   ]
  },
  {
   "cell_type": "code",
   "execution_count": 35,
   "metadata": {},
   "outputs": [
    {
     "name": "stdout",
     "output_type": "stream",
     "text": [
      "NAME                                   READY     STATUS    RESTARTS   AGE\n",
      "kubernetes-microbot-7b78749599-ccn6l   1/1       Running   0          5m\n"
     ]
    }
   ],
   "source": [
    "kubectl get pods -l run=kubernetes-microbot"
   ]
  },
  {
   "cell_type": "code",
   "execution_count": 36,
   "metadata": {},
   "outputs": [
    {
     "name": "stdout",
     "output_type": "stream",
     "text": [
      "NAME                  TYPE       CLUSTER-IP      EXTERNAL-IP   PORT(S)        AGE\n",
      "kubernetes-microbot   NodePort   10.105.40.107   <none>        80:32303/TCP   1m\n"
     ]
    }
   ],
   "source": [
    "kubectl get services -l run=kubernetes-microbot"
   ]
  },
  {
   "cell_type": "code",
   "execution_count": 37,
   "metadata": {},
   "outputs": [
    {
     "name": "stdout",
     "output_type": "stream",
     "text": [
      "pod \"kubernetes-microbot-7b78749599-ccn6l\" labeled\n"
     ]
    }
   ],
   "source": [
    "kubectl label pod $POD_NAME app=v1"
   ]
  },
  {
   "cell_type": "code",
   "execution_count": 39,
   "metadata": {},
   "outputs": [
    {
     "name": "stdout",
     "output_type": "stream",
     "text": [
      "Name:           kubernetes-microbot-7b78749599-ccn6l\n",
      "Namespace:      default\n",
      "Node:           minikube/192.168.99.100\n",
      "Start Time:     Mon, 04 Dec 2017 11:20:15 +0100\n",
      "Labels:         app=v1\n",
      "                pod-template-hash=3634305155\n",
      "                run=kubernetes-microbot\n",
      "Annotations:    kubernetes.io/created-by={\"kind\":\"SerializedReference\",\"apiVersion\":\"v1\",\"reference\":{\"kind\":\"ReplicaSet\",\"namespace\":\"default\",\"name\":\"kubernetes-microbot-7b78749599\",\"uid\":\"b80cb235-d8dc-11e7-a20d-0...\n",
      "Status:         Running\n",
      "IP:             172.17.0.4\n",
      "Created By:     ReplicaSet/kubernetes-microbot-7b78749599\n",
      "Controlled By:  ReplicaSet/kubernetes-microbot-7b78749599\n",
      "Containers:\n",
      "  kubernetes-microbot:\n",
      "    Container ID:   docker://7ef945bd049a3014e1da91d51ba1d92607cf53b3b43db97e3eb7a4312ecded50\n",
      "    Image:          dontrebootme/microbot:v1\n",
      "    Image ID:       docker-pullable://dontrebootme/microbot@sha256:ec71565e9cad762bdbd3ecc382b26162f07cea81a803861bc1e5099758e46ee0\n",
      "    Port:           80/TCP\n",
      "    State:          Running\n",
      "      Started:      Mon, 04 Dec 2017 11:20:15 +0100\n",
      "    Ready:          True\n",
      "    Restart Count:  0\n",
      "    Environment:    <none>\n",
      "    Mounts:\n",
      "      /var/run/secrets/kubernetes.io/serviceaccount from default-token-dp5x6 (ro)\n",
      "Conditions:\n",
      "  Type           Status\n",
      "  Initialized    True \n",
      "  Ready          True \n",
      "  PodScheduled   True \n",
      "Volumes:\n",
      "  default-token-dp5x6:\n",
      "    Type:        Secret (a volume populated by a Secret)\n",
      "    SecretName:  default-token-dp5x6\n",
      "    Optional:    false\n",
      "QoS Class:       BestEffort\n",
      "Node-Selectors:  <none>\n",
      "Tolerations:     <none>\n",
      "Events:\n",
      "  Type    Reason                 Age   From               Message\n",
      "  ----    ------                 ----  ----               -------\n",
      "  Normal  Scheduled              6m    default-scheduler  Successfully assigned kubernetes-microbot-7b78749599-ccn6l to minikube\n",
      "  Normal  SuccessfulMountVolume  6m    kubelet, minikube  MountVolume.SetUp succeeded for volume \"default-token-dp5x6\"\n",
      "  Normal  Pulled                 6m    kubelet, minikube  Container image \"dontrebootme/microbot:v1\" already present on machine\n",
      "  Normal  Created                6m    kubelet, minikube  Created container\n",
      "  Normal  Started                6m    kubelet, minikube  Started container\n"
     ]
    }
   ],
   "source": [
    "kubectl describe pods $POD_NAME"
   ]
  },
  {
   "cell_type": "code",
   "execution_count": 40,
   "metadata": {},
   "outputs": [
    {
     "name": "stdout",
     "output_type": "stream",
     "text": [
      "<!DOCTYPE html>\n",
      "<html>\n",
      "  <style type=\"text/css\">\n",
      "    .centered\n",
      "      {\n",
      "      text-align:center;\n",
      "      margin-top:0px;\n",
      "      margin-bottom:0px;\n",
      "      padding:0px;\n",
      "      }\n",
      "  </style>\n",
      "  <body>\n",
      "    <p class=\"centered\"><img src=\"microbot.png\" alt=\"microbot\"/></p>\n",
      "    <p class=\"centered\">Container hostname: kubernetes-microbot-7b78749599-ccn6l</p>\n",
      "  </body>\n",
      "</html>\n"
     ]
    }
   ],
   "source": [
    "curl http://$(minikube ip):$NODE_PORT"
   ]
  },
  {
   "cell_type": "markdown",
   "metadata": {},
   "source": [
    "If we delete the service, the app won't be accessible anymore from the outside world"
   ]
  },
  {
   "cell_type": "code",
   "execution_count": 41,
   "metadata": {},
   "outputs": [
    {
     "name": "stdout",
     "output_type": "stream",
     "text": [
      "service \"kubernetes-microbot\" deleted\n"
     ]
    }
   ],
   "source": [
    "kubectl delete service -l run=kubernetes-microbot"
   ]
  },
  {
   "cell_type": "code",
   "execution_count": 42,
   "metadata": {},
   "outputs": [
    {
     "name": "stdout",
     "output_type": "stream",
     "text": [
      "NAME         TYPE        CLUSTER-IP   EXTERNAL-IP   PORT(S)   AGE\n",
      "kubernetes   ClusterIP   10.96.0.1    <none>        443/TCP   1d\n"
     ]
    }
   ],
   "source": [
    "kubectl get services"
   ]
  },
  {
   "cell_type": "code",
   "execution_count": 43,
   "metadata": {},
   "outputs": [
    {
     "name": "stdout",
     "output_type": "stream",
     "text": [
      "curl: (7) Failed to connect to 192.168.99.100 port 32303: Connection refused\n"
     ]
    },
    {
     "ename": "",
     "evalue": "7",
     "output_type": "error",
     "traceback": []
    }
   ],
   "source": [
    "curl http://$(minikube ip):$NODE_PORT"
   ]
  },
  {
   "cell_type": "markdown",
   "metadata": {},
   "source": [
    "The Pod is still running and can be accessed by the API server"
   ]
  },
  {
   "cell_type": "code",
   "execution_count": 44,
   "metadata": {},
   "outputs": [
    {
     "name": "stdout",
     "output_type": "stream",
     "text": [
      "NAME                                   READY     STATUS    RESTARTS   AGE\n",
      "kubernetes-microbot-7b78749599-ccn6l   1/1       Running   0          6m\n"
     ]
    }
   ],
   "source": [
    "kubectl get pods"
   ]
  },
  {
   "cell_type": "code",
   "execution_count": 45,
   "metadata": {},
   "outputs": [
    {
     "name": "stdout",
     "output_type": "stream",
     "text": [
      "<!DOCTYPE html>\n",
      "<html>\n",
      "  <style type=\"text/css\">\n",
      "    .centered\n",
      "      {\n",
      "      text-align:center;\n",
      "      margin-top:0px;\n",
      "      margin-bottom:0px;\n",
      "      padding:0px;\n",
      "      }\n",
      "  </style>\n",
      "  <body>\n",
      "    <p class=\"centered\"><img src=\"microbot.png\" alt=\"microbot\"/></p>\n",
      "    <p class=\"centered\">Container hostname: kubernetes-microbot-7b78749599-ccn6l</p>\n",
      "  </body>\n",
      "</html>\n"
     ]
    }
   ],
   "source": [
    "curl http://localhost:8001/api/v1/proxy/namespaces/default/pods/$POD_NAME/"
   ]
  },
  {
   "cell_type": "markdown",
   "metadata": {},
   "source": [
    "Let's restart the service"
   ]
  },
  {
   "cell_type": "code",
   "execution_count": 46,
   "metadata": {},
   "outputs": [
    {
     "name": "stdout",
     "output_type": "stream",
     "text": [
      "service \"kubernetes-microbot\" exposed\n"
     ]
    }
   ],
   "source": [
    "kubectl expose deployment/kubernetes-microbot --type=\"NodePort\" --port 80"
   ]
  },
  {
   "cell_type": "markdown",
   "metadata": {},
   "source": [
    "## Scaling\n",
    "\n",
    "Kubernetes allows to easily scale an application by starting more Pods.\n",
    "\n",
    "![](module_05_scaling1.svg)"
   ]
  },
  {
   "cell_type": "markdown",
   "metadata": {},
   "source": [
    "![](module_05_scaling2.svg)"
   ]
  },
  {
   "cell_type": "code",
   "execution_count": 47,
   "metadata": {},
   "outputs": [
    {
     "name": "stdout",
     "output_type": "stream",
     "text": [
      "NAME                  DESIRED   CURRENT   UP-TO-DATE   AVAILABLE   AGE\n",
      "kubernetes-microbot   1         1         1            1           7m\n"
     ]
    }
   ],
   "source": [
    "kubectl get deployments"
   ]
  },
  {
   "cell_type": "code",
   "execution_count": 48,
   "metadata": {},
   "outputs": [
    {
     "name": "stdout",
     "output_type": "stream",
     "text": [
      "deployment \"kubernetes-microbot\" scaled\n"
     ]
    }
   ],
   "source": [
    "kubectl scale deployments/kubernetes-microbot --replicas=4"
   ]
  },
  {
   "cell_type": "code",
   "execution_count": 49,
   "metadata": {},
   "outputs": [
    {
     "name": "stdout",
     "output_type": "stream",
     "text": [
      "NAME                  DESIRED   CURRENT   UP-TO-DATE   AVAILABLE   AGE\n",
      "kubernetes-microbot   4         4         4            4           7m\n"
     ]
    }
   ],
   "source": [
    "kubectl get deployments"
   ]
  },
  {
   "cell_type": "code",
   "execution_count": 50,
   "metadata": {},
   "outputs": [
    {
     "name": "stdout",
     "output_type": "stream",
     "text": [
      "NAME                                   READY     STATUS    RESTARTS   AGE       IP           NODE\n",
      "kubernetes-microbot-7b78749599-bjknr   1/1       Running   0          6s        172.17.0.7   minikube\n",
      "kubernetes-microbot-7b78749599-ccn6l   1/1       Running   0          8m        172.17.0.4   minikube\n",
      "kubernetes-microbot-7b78749599-dfzlj   1/1       Running   0          6s        172.17.0.5   minikube\n",
      "kubernetes-microbot-7b78749599-khhmj   1/1       Running   0          6s        172.17.0.6   minikube\n"
     ]
    }
   ],
   "source": [
    "kubectl get pods -o wide"
   ]
  },
  {
   "cell_type": "code",
   "execution_count": 51,
   "metadata": {},
   "outputs": [
    {
     "name": "stdout",
     "output_type": "stream",
     "text": [
      "Name:                   kubernetes-microbot\n",
      "Namespace:              default\n",
      "CreationTimestamp:      Mon, 04 Dec 2017 11:20:15 +0100\n",
      "Labels:                 run=kubernetes-microbot\n",
      "Annotations:            deployment.kubernetes.io/revision=1\n",
      "Selector:               run=kubernetes-microbot\n",
      "Replicas:               4 desired | 4 updated | 4 total | 4 available | 0 unavailable\n",
      "StrategyType:           RollingUpdate\n",
      "MinReadySeconds:        0\n",
      "RollingUpdateStrategy:  1 max unavailable, 1 max surge\n",
      "Pod Template:\n",
      "  Labels:  run=kubernetes-microbot\n",
      "  Containers:\n",
      "   kubernetes-microbot:\n",
      "    Image:        dontrebootme/microbot:v1\n",
      "    Port:         80/TCP\n",
      "    Environment:  <none>\n",
      "    Mounts:       <none>\n",
      "  Volumes:        <none>\n",
      "Conditions:\n",
      "  Type           Status  Reason\n",
      "  ----           ------  ------\n",
      "  Available      True    MinimumReplicasAvailable\n",
      "OldReplicaSets:  <none>\n",
      "NewReplicaSet:   kubernetes-microbot-7b78749599 (4/4 replicas created)\n",
      "Events:\n",
      "  Type    Reason             Age   From                   Message\n",
      "  ----    ------             ----  ----                   -------\n",
      "  Normal  ScalingReplicaSet  8m    deployment-controller  Scaled up replica set kubernetes-microbot-7b78749599 to 1\n",
      "  Normal  ScalingReplicaSet  38s   deployment-controller  Scaled up replica set kubernetes-microbot-7b78749599 to 4\n"
     ]
    }
   ],
   "source": [
    "kubectl describe deployments/kubernetes-microbot"
   ]
  },
  {
   "cell_type": "code",
   "execution_count": 52,
   "metadata": {},
   "outputs": [
    {
     "name": "stdout",
     "output_type": "stream",
     "text": [
      "Name:                     kubernetes-microbot\n",
      "Namespace:                default\n",
      "Labels:                   run=kubernetes-microbot\n",
      "Annotations:              <none>\n",
      "Selector:                 run=kubernetes-microbot\n",
      "Type:                     NodePort\n",
      "IP:                       10.106.71.208\n",
      "Port:                     <unset>  80/TCP\n",
      "TargetPort:               80/TCP\n",
      "NodePort:                 <unset>  30848/TCP\n",
      "Endpoints:                172.17.0.4:80,172.17.0.5:80,172.17.0.6:80 + 1 more...\n",
      "Session Affinity:         None\n",
      "External Traffic Policy:  Cluster\n",
      "Events:                   <none>\n"
     ]
    }
   ],
   "source": [
    "kubectl describe services/kubernetes-microbot"
   ]
  },
  {
   "cell_type": "code",
   "execution_count": 53,
   "metadata": {},
   "outputs": [],
   "source": [
    "NODE_PORT=30848"
   ]
  },
  {
   "cell_type": "code",
   "execution_count": 54,
   "metadata": {},
   "outputs": [
    {
     "name": "stdout",
     "output_type": "stream",
     "text": [
      "192.168.99.100\n"
     ]
    }
   ],
   "source": [
    "minikube ip"
   ]
  },
  {
   "cell_type": "code",
   "execution_count": 57,
   "metadata": {},
   "outputs": [
    {
     "name": "stdout",
     "output_type": "stream",
     "text": [
      "<!DOCTYPE html>\n",
      "<html>\n",
      "  <style type=\"text/css\">\n",
      "    .centered\n",
      "      {\n",
      "      text-align:center;\n",
      "      margin-top:0px;\n",
      "      margin-bottom:0px;\n",
      "      padding:0px;\n",
      "      }\n",
      "  </style>\n",
      "  <body>\n",
      "    <p class=\"centered\"><img src=\"microbot.png\" alt=\"microbot\"/></p>\n",
      "    <p class=\"centered\">Container hostname: kubernetes-microbot-7b78749599-dfzlj</p>\n",
      "  </body>\n",
      "</html>\n"
     ]
    }
   ],
   "source": [
    "curl http://$(minikube ip):$NODE_PORT"
   ]
  },
  {
   "cell_type": "markdown",
   "metadata": {},
   "source": [
    "We can also scale down"
   ]
  },
  {
   "cell_type": "code",
   "execution_count": 58,
   "metadata": {},
   "outputs": [
    {
     "name": "stdout",
     "output_type": "stream",
     "text": [
      "deployment \"kubernetes-microbot\" scaled\n"
     ]
    }
   ],
   "source": [
    "kubectl scale deployments/kubernetes-microbot --replicas=2"
   ]
  },
  {
   "cell_type": "code",
   "execution_count": 59,
   "metadata": {},
   "outputs": [
    {
     "name": "stdout",
     "output_type": "stream",
     "text": [
      "NAME                  DESIRED   CURRENT   UP-TO-DATE   AVAILABLE   AGE\n",
      "kubernetes-microbot   2         2         2            2           9m\n"
     ]
    }
   ],
   "source": [
    "kubectl get deployments"
   ]
  },
  {
   "cell_type": "code",
   "execution_count": 60,
   "metadata": {},
   "outputs": [
    {
     "name": "stdout",
     "output_type": "stream",
     "text": [
      "NAME                                   READY     STATUS        RESTARTS   AGE       IP           NODE\n",
      "kubernetes-microbot-7b78749599-bjknr   1/1       Terminating   0          1m        172.17.0.7   minikube\n",
      "kubernetes-microbot-7b78749599-ccn6l   1/1       Running       0          9m        172.17.0.4   minikube\n",
      "kubernetes-microbot-7b78749599-dfzlj   1/1       Running       0          1m        172.17.0.5   minikube\n",
      "kubernetes-microbot-7b78749599-khhmj   1/1       Terminating   0          1m        172.17.0.6   minikube\n"
     ]
    }
   ],
   "source": [
    "kubectl get pods -o wide"
   ]
  },
  {
   "cell_type": "markdown",
   "metadata": {},
   "source": [
    "### Rolling update"
   ]
  },
  {
   "cell_type": "code",
   "execution_count": 61,
   "metadata": {},
   "outputs": [
    {
     "name": "stdout",
     "output_type": "stream",
     "text": [
      "deployment \"kubernetes-microbot\" scaled\n"
     ]
    }
   ],
   "source": [
    "kubectl scale deployments/kubernetes-microbot --replicas=4"
   ]
  },
  {
   "cell_type": "code",
   "execution_count": 63,
   "metadata": {},
   "outputs": [
    {
     "name": "stdout",
     "output_type": "stream",
     "text": [
      "NAME                                   READY     STATUS        RESTARTS   AGE       IP           NODE\n",
      "kubernetes-microbot-7b78749599-9s4s2   1/1       Running       0          5s        172.17.0.7   minikube\n",
      "kubernetes-microbot-7b78749599-bjknr   0/1       Terminating   0          2m        <none>       minikube\n",
      "kubernetes-microbot-7b78749599-ccn6l   1/1       Running       0          10m       172.17.0.4   minikube\n",
      "kubernetes-microbot-7b78749599-dfzlj   1/1       Running       0          2m        172.17.0.5   minikube\n",
      "kubernetes-microbot-7b78749599-khhmj   0/1       Terminating   0          2m        <none>       minikube\n",
      "kubernetes-microbot-7b78749599-mdrgr   1/1       Running       0          5s        172.17.0.6   minikube\n"
     ]
    }
   ],
   "source": [
    "kubectl get pods -o wide"
   ]
  },
  {
   "cell_type": "code",
   "execution_count": 64,
   "metadata": {},
   "outputs": [
    {
     "name": "stdout",
     "output_type": "stream",
     "text": [
      "Name:           kubernetes-microbot-7b78749599-9s4s2\n",
      "Namespace:      default\n",
      "Node:           minikube/192.168.99.100\n",
      "Start Time:     Mon, 04 Dec 2017 11:30:46 +0100\n",
      "Labels:         pod-template-hash=3634305155\n",
      "                run=kubernetes-microbot\n",
      "Annotations:    kubernetes.io/created-by={\"kind\":\"SerializedReference\",\"apiVersion\":\"v1\",\"reference\":{\"kind\":\"ReplicaSet\",\"namespace\":\"default\",\"name\":\"kubernetes-microbot-7b78749599\",\"uid\":\"b80cb235-d8dc-11e7-a20d-0...\n",
      "Status:         Running\n",
      "IP:             172.17.0.7\n",
      "Created By:     ReplicaSet/kubernetes-microbot-7b78749599\n",
      "Controlled By:  ReplicaSet/kubernetes-microbot-7b78749599\n",
      "Containers:\n",
      "  kubernetes-microbot:\n",
      "    Container ID:   docker://fb06d07d7cd7ce052c8a0f492eac087ca29e24f661a66379e0b2b9ddc402e512\n",
      "    Image:          dontrebootme/microbot:v1\n",
      "    Image ID:       docker-pullable://dontrebootme/microbot@sha256:ec71565e9cad762bdbd3ecc382b26162f07cea81a803861bc1e5099758e46ee0\n",
      "    Port:           80/TCP\n",
      "    State:          Running\n",
      "      Started:      Mon, 04 Dec 2017 11:30:47 +0100\n",
      "    Ready:          True\n",
      "    Restart Count:  0\n",
      "    Environment:    <none>\n",
      "    Mounts:\n",
      "      /var/run/secrets/kubernetes.io/serviceaccount from default-token-dp5x6 (ro)\n",
      "Conditions:\n",
      "  Type           Status\n",
      "  Initialized    True \n",
      "  Ready          True \n",
      "  PodScheduled   True \n",
      "Volumes:\n",
      "  default-token-dp5x6:\n",
      "    Type:        Secret (a volume populated by a Secret)\n",
      "    SecretName:  default-token-dp5x6\n",
      "    Optional:    false\n",
      "QoS Class:       BestEffort\n",
      "Node-Selectors:  <none>\n",
      "Tolerations:     <none>\n",
      "Events:\n",
      "  Type    Reason                 Age   From               Message\n",
      "  ----    ------                 ----  ----               -------\n",
      "  Normal  Scheduled              10s   default-scheduler  Successfully assigned kubernetes-microbot-7b78749599-9s4s2 to minikube\n",
      "  Normal  SuccessfulMountVolume  10s   kubelet, minikube  MountVolume.SetUp succeeded for volume \"default-token-dp5x6\"\n",
      "  Normal  Pulled                 9s    kubelet, minikube  Container image \"dontrebootme/microbot:v1\" already present on machine\n",
      "  Normal  Created                9s    kubelet, minikube  Created container\n",
      "  Normal  Started                9s    kubelet, minikube  Started container\n",
      "\n",
      "\n",
      "Name:                      kubernetes-microbot-7b78749599-bjknr\n",
      "Namespace:                 default\n",
      "Node:                      minikube/192.168.99.100\n",
      "Start Time:                Mon, 04 Dec 2017 11:28:12 +0100\n",
      "Labels:                    pod-template-hash=3634305155\n",
      "                           run=kubernetes-microbot\n",
      "Annotations:               kubernetes.io/created-by={\"kind\":\"SerializedReference\",\"apiVersion\":\"v1\",\"reference\":{\"kind\":\"ReplicaSet\",\"namespace\":\"default\",\"name\":\"kubernetes-microbot-7b78749599\",\"uid\":\"b80cb235-d8dc-11e7-a20d-0...\n",
      "Status:                    Terminating (expires Mon, 04 Dec 2017 11:30:35 +0100)\n",
      "Termination Grace Period:  30s\n",
      "IP:                        \n",
      "Created By:                ReplicaSet/kubernetes-microbot-7b78749599\n",
      "Controlled By:             ReplicaSet/kubernetes-microbot-7b78749599\n",
      "Containers:\n",
      "  kubernetes-microbot:\n",
      "    Container ID:   docker://3dfa83b6c1e8bd21d38a5c5e20d6a40cae5369f6ca365f70583b1c6fc92f9172\n",
      "    Image:          dontrebootme/microbot:v1\n",
      "    Image ID:       docker-pullable://dontrebootme/microbot@sha256:ec71565e9cad762bdbd3ecc382b26162f07cea81a803861bc1e5099758e46ee0\n",
      "    Port:           80/TCP\n",
      "    State:          Terminated\n",
      "      Reason:       Error\n",
      "      Exit Code:    137\n",
      "      Started:      Mon, 04 Dec 2017 11:28:13 +0100\n",
      "      Finished:     Mon, 04 Dec 2017 11:30:35 +0100\n",
      "    Ready:          False\n",
      "    Restart Count:  0\n",
      "    Environment:    <none>\n",
      "    Mounts:\n",
      "      /var/run/secrets/kubernetes.io/serviceaccount from default-token-dp5x6 (ro)\n",
      "Conditions:\n",
      "  Type           Status\n",
      "  Initialized    True \n",
      "  Ready          False \n",
      "  PodScheduled   True \n",
      "Volumes:\n",
      "  default-token-dp5x6:\n",
      "    Type:        Secret (a volume populated by a Secret)\n",
      "    SecretName:  default-token-dp5x6\n",
      "    Optional:    false\n",
      "QoS Class:       BestEffort\n",
      "Node-Selectors:  <none>\n",
      "Tolerations:     <none>\n",
      "Events:\n",
      "  Type    Reason                 Age   From               Message\n",
      "  ----    ------                 ----  ----               -------\n",
      "  Normal  Scheduled              2m    default-scheduler  Successfully assigned kubernetes-microbot-7b78749599-bjknr to minikube\n",
      "  Normal  SuccessfulMountVolume  2m    kubelet, minikube  MountVolume.SetUp succeeded for volume \"default-token-dp5x6\"\n",
      "  Normal  Pulled                 2m    kubelet, minikube  Container image \"dontrebootme/microbot:v1\" already present on machine\n",
      "  Normal  Created                2m    kubelet, minikube  Created container\n",
      "  Normal  Started                2m    kubelet, minikube  Started container\n",
      "  Normal  Killing                21s   kubelet, minikube  Killing container with id docker://kubernetes-microbot:Need to kill Pod\n",
      "\n",
      "\n",
      "Name:           kubernetes-microbot-7b78749599-ccn6l\n",
      "Namespace:      default\n",
      "Node:           minikube/192.168.99.100\n",
      "Start Time:     Mon, 04 Dec 2017 11:20:15 +0100\n",
      "Labels:         app=v1\n",
      "                pod-template-hash=3634305155\n",
      "                run=kubernetes-microbot\n",
      "Annotations:    kubernetes.io/created-by={\"kind\":\"SerializedReference\",\"apiVersion\":\"v1\",\"reference\":{\"kind\":\"ReplicaSet\",\"namespace\":\"default\",\"name\":\"kubernetes-microbot-7b78749599\",\"uid\":\"b80cb235-d8dc-11e7-a20d-0...\n",
      "Status:         Running\n",
      "IP:             172.17.0.4\n",
      "Created By:     ReplicaSet/kubernetes-microbot-7b78749599\n",
      "Controlled By:  ReplicaSet/kubernetes-microbot-7b78749599\n",
      "Containers:\n",
      "  kubernetes-microbot:\n",
      "    Container ID:   docker://7ef945bd049a3014e1da91d51ba1d92607cf53b3b43db97e3eb7a4312ecded50\n",
      "    Image:          dontrebootme/microbot:v1\n",
      "    Image ID:       docker-pullable://dontrebootme/microbot@sha256:ec71565e9cad762bdbd3ecc382b26162f07cea81a803861bc1e5099758e46ee0\n",
      "    Port:           80/TCP\n",
      "    State:          Running\n",
      "      Started:      Mon, 04 Dec 2017 11:20:15 +0100\n",
      "    Ready:          True\n",
      "    Restart Count:  0\n",
      "    Environment:    <none>\n",
      "    Mounts:\n",
      "      /var/run/secrets/kubernetes.io/serviceaccount from default-token-dp5x6 (ro)\n",
      "Conditions:\n",
      "  Type           Status\n",
      "  Initialized    True \n",
      "  Ready          True \n",
      "  PodScheduled   True \n",
      "Volumes:\n",
      "  default-token-dp5x6:\n",
      "    Type:        Secret (a volume populated by a Secret)\n",
      "    SecretName:  default-token-dp5x6\n",
      "    Optional:    false\n",
      "QoS Class:       BestEffort\n",
      "Node-Selectors:  <none>\n",
      "Tolerations:     <none>\n",
      "Events:\n",
      "  Type    Reason                 Age   From               Message\n",
      "  ----    ------                 ----  ----               -------\n",
      "  Normal  Scheduled              10m   default-scheduler  Successfully assigned kubernetes-microbot-7b78749599-ccn6l to minikube\n",
      "  Normal  SuccessfulMountVolume  10m   kubelet, minikube  MountVolume.SetUp succeeded for volume \"default-token-dp5x6\"\n",
      "  Normal  Pulled                 10m   kubelet, minikube  Container image \"dontrebootme/microbot:v1\" already present on machine\n",
      "  Normal  Created                10m   kubelet, minikube  Created container\n",
      "  Normal  Started                10m   kubelet, minikube  Started container\n",
      "\n",
      "\n",
      "Name:           kubernetes-microbot-7b78749599-dfzlj\n",
      "Namespace:      default\n",
      "Node:           minikube/192.168.99.100\n",
      "Start Time:     Mon, 04 Dec 2017 11:28:12 +0100\n",
      "Labels:         pod-template-hash=3634305155\n",
      "                run=kubernetes-microbot\n",
      "Annotations:    kubernetes.io/created-by={\"kind\":\"SerializedReference\",\"apiVersion\":\"v1\",\"reference\":{\"kind\":\"ReplicaSet\",\"namespace\":\"default\",\"name\":\"kubernetes-microbot-7b78749599\",\"uid\":\"b80cb235-d8dc-11e7-a20d-0...\n",
      "Status:         Running\n",
      "IP:             172.17.0.5\n",
      "Created By:     ReplicaSet/kubernetes-microbot-7b78749599\n",
      "Controlled By:  ReplicaSet/kubernetes-microbot-7b78749599\n",
      "Containers:\n",
      "  kubernetes-microbot:\n",
      "    Container ID:   docker://105018a2ce9d55088868278e4a7cd37e67545e08dce9bf51fa9d129a64b5d950\n",
      "    Image:          dontrebootme/microbot:v1\n",
      "    Image ID:       docker-pullable://dontrebootme/microbot@sha256:ec71565e9cad762bdbd3ecc382b26162f07cea81a803861bc1e5099758e46ee0\n",
      "    Port:           80/TCP\n",
      "    State:          Running\n",
      "      Started:      Mon, 04 Dec 2017 11:28:13 +0100\n",
      "    Ready:          True\n",
      "    Restart Count:  0\n"
     ]
    },
    {
     "name": "stdout",
     "output_type": "stream",
     "text": [
      "    Environment:    <none>\n",
      "    Mounts:\n",
      "      /var/run/secrets/kubernetes.io/serviceaccount from default-token-dp5x6 (ro)\n",
      "Conditions:\n",
      "  Type           Status\n",
      "  Initialized    True \n",
      "  Ready          True \n",
      "  PodScheduled   True \n",
      "Volumes:\n",
      "  default-token-dp5x6:\n",
      "    Type:        Secret (a volume populated by a Secret)\n",
      "    SecretName:  default-token-dp5x6\n",
      "    Optional:    false\n",
      "QoS Class:       BestEffort\n",
      "Node-Selectors:  <none>\n",
      "Tolerations:     <none>\n",
      "Events:\n",
      "  Type    Reason                 Age   From               Message\n",
      "  ----    ------                 ----  ----               -------\n",
      "  Normal  Scheduled              2m    default-scheduler  Successfully assigned kubernetes-microbot-7b78749599-dfzlj to minikube\n",
      "  Normal  SuccessfulMountVolume  2m    kubelet, minikube  MountVolume.SetUp succeeded for volume \"default-token-dp5x6\"\n",
      "  Normal  Pulled                 2m    kubelet, minikube  Container image \"dontrebootme/microbot:v1\" already present on machine\n",
      "  Normal  Created                2m    kubelet, minikube  Created container\n",
      "  Normal  Started                2m    kubelet, minikube  Started container\n",
      "\n",
      "\n",
      "Name:                      kubernetes-microbot-7b78749599-khhmj\n",
      "Namespace:                 default\n",
      "Node:                      minikube/192.168.99.100\n",
      "Start Time:                Mon, 04 Dec 2017 11:28:12 +0100\n",
      "Labels:                    pod-template-hash=3634305155\n",
      "                           run=kubernetes-microbot\n",
      "Annotations:               kubernetes.io/created-by={\"kind\":\"SerializedReference\",\"apiVersion\":\"v1\",\"reference\":{\"kind\":\"ReplicaSet\",\"namespace\":\"default\",\"name\":\"kubernetes-microbot-7b78749599\",\"uid\":\"b80cb235-d8dc-11e7-a20d-0...\n",
      "Status:                    Terminating (expires Mon, 04 Dec 2017 11:30:35 +0100)\n",
      "Termination Grace Period:  30s\n",
      "IP:                        \n",
      "Created By:                ReplicaSet/kubernetes-microbot-7b78749599\n",
      "Controlled By:             ReplicaSet/kubernetes-microbot-7b78749599\n",
      "Containers:\n",
      "  kubernetes-microbot:\n",
      "    Container ID:   docker://5b0a13f17241554de40c998931d5ef296c41aaf621df2e1f1125f93038fd0450\n",
      "    Image:          dontrebootme/microbot:v1\n",
      "    Image ID:       docker-pullable://dontrebootme/microbot@sha256:ec71565e9cad762bdbd3ecc382b26162f07cea81a803861bc1e5099758e46ee0\n",
      "    Port:           80/TCP\n",
      "    State:          Terminated\n",
      "      Reason:       Error\n",
      "      Exit Code:    137\n",
      "      Started:      Mon, 04 Dec 2017 11:28:13 +0100\n",
      "      Finished:     Mon, 04 Dec 2017 11:30:35 +0100\n",
      "    Ready:          False\n",
      "    Restart Count:  0\n",
      "    Environment:    <none>\n",
      "    Mounts:\n",
      "      /var/run/secrets/kubernetes.io/serviceaccount from default-token-dp5x6 (ro)\n",
      "Conditions:\n",
      "  Type           Status\n",
      "  Initialized    True \n",
      "  Ready          False \n",
      "  PodScheduled   True \n",
      "Volumes:\n",
      "  default-token-dp5x6:\n",
      "    Type:        Secret (a volume populated by a Secret)\n",
      "    SecretName:  default-token-dp5x6\n",
      "    Optional:    false\n",
      "QoS Class:       BestEffort\n",
      "Node-Selectors:  <none>\n",
      "Tolerations:     <none>\n",
      "Events:\n",
      "  Type    Reason                 Age   From               Message\n",
      "  ----    ------                 ----  ----               -------\n",
      "  Normal  Scheduled              2m    default-scheduler  Successfully assigned kubernetes-microbot-7b78749599-khhmj to minikube\n",
      "  Normal  SuccessfulMountVolume  2m    kubelet, minikube  MountVolume.SetUp succeeded for volume \"default-token-dp5x6\"\n",
      "  Normal  Pulled                 2m    kubelet, minikube  Container image \"dontrebootme/microbot:v1\" already present on machine\n",
      "  Normal  Created                2m    kubelet, minikube  Created container\n",
      "  Normal  Started                2m    kubelet, minikube  Started container\n",
      "  Normal  Killing                21s   kubelet, minikube  Killing container with id docker://kubernetes-microbot:Need to kill Pod\n",
      "\n",
      "\n",
      "Name:           kubernetes-microbot-7b78749599-mdrgr\n",
      "Namespace:      default\n",
      "Node:           minikube/192.168.99.100\n",
      "Start Time:     Mon, 04 Dec 2017 11:30:46 +0100\n",
      "Labels:         pod-template-hash=3634305155\n",
      "                run=kubernetes-microbot\n",
      "Annotations:    kubernetes.io/created-by={\"kind\":\"SerializedReference\",\"apiVersion\":\"v1\",\"reference\":{\"kind\":\"ReplicaSet\",\"namespace\":\"default\",\"name\":\"kubernetes-microbot-7b78749599\",\"uid\":\"b80cb235-d8dc-11e7-a20d-0...\n",
      "Status:         Running\n",
      "IP:             172.17.0.6\n",
      "Created By:     ReplicaSet/kubernetes-microbot-7b78749599\n",
      "Controlled By:  ReplicaSet/kubernetes-microbot-7b78749599\n",
      "Containers:\n",
      "  kubernetes-microbot:\n",
      "    Container ID:   docker://8e201f478a0f1a5283f1c9b5c93ca26b2cb8670091aec710f929adff0b283e44\n",
      "    Image:          dontrebootme/microbot:v1\n",
      "    Image ID:       docker-pullable://dontrebootme/microbot@sha256:ec71565e9cad762bdbd3ecc382b26162f07cea81a803861bc1e5099758e46ee0\n",
      "    Port:           80/TCP\n",
      "    State:          Running\n",
      "      Started:      Mon, 04 Dec 2017 11:30:47 +0100\n",
      "    Ready:          True\n",
      "    Restart Count:  0\n",
      "    Environment:    <none>\n",
      "    Mounts:\n",
      "      /var/run/secrets/kubernetes.io/serviceaccount from default-token-dp5x6 (ro)\n",
      "Conditions:\n",
      "  Type           Status\n",
      "  Initialized    True \n",
      "  Ready          True \n",
      "  PodScheduled   True \n",
      "Volumes:\n",
      "  default-token-dp5x6:\n",
      "    Type:        Secret (a volume populated by a Secret)\n",
      "    SecretName:  default-token-dp5x6\n",
      "    Optional:    false\n",
      "QoS Class:       BestEffort\n",
      "Node-Selectors:  <none>\n",
      "Tolerations:     <none>\n",
      "Events:\n",
      "  Type    Reason                 Age   From               Message\n",
      "  ----    ------                 ----  ----               -------\n",
      "  Normal  Scheduled              10s   default-scheduler  Successfully assigned kubernetes-microbot-7b78749599-mdrgr to minikube\n",
      "  Normal  SuccessfulMountVolume  10s   kubelet, minikube  MountVolume.SetUp succeeded for volume \"default-token-dp5x6\"\n",
      "  Normal  Pulled                 9s    kubelet, minikube  Container image \"dontrebootme/microbot:v1\" already present on machine\n",
      "  Normal  Created                9s    kubelet, minikube  Created container\n",
      "  Normal  Started                9s    kubelet, minikube  Started container\n"
     ]
    }
   ],
   "source": [
    "kubectl describe pods"
   ]
  },
  {
   "cell_type": "markdown",
   "metadata": {},
   "source": [
    "Let's update microbot to v2"
   ]
  },
  {
   "cell_type": "code",
   "execution_count": 65,
   "metadata": {},
   "outputs": [
    {
     "name": "stdout",
     "output_type": "stream",
     "text": [
      "deployment \"kubernetes-microbot\" image updated\n"
     ]
    }
   ],
   "source": [
    "kubectl set image deployments/kubernetes-microbot kubernetes-microbot=dontrebootme/microbot:v2"
   ]
  },
  {
   "cell_type": "code",
   "execution_count": 66,
   "metadata": {},
   "outputs": [
    {
     "name": "stdout",
     "output_type": "stream",
     "text": [
      "NAME                                   READY     STATUS        RESTARTS   AGE       IP           NODE\n",
      "kubernetes-microbot-7b78749599-9s4s2   1/1       Terminating   0          35s       172.17.0.7   minikube\n",
      "kubernetes-microbot-7b78749599-bjknr   0/1       Terminating   0          3m        <none>       minikube\n",
      "kubernetes-microbot-7b78749599-ccn6l   1/1       Running       0          11m       172.17.0.4   minikube\n",
      "kubernetes-microbot-7b78749599-dfzlj   1/1       Terminating   0          3m        172.17.0.5   minikube\n",
      "kubernetes-microbot-7b78749599-khhmj   0/1       Terminating   0          3m        <none>       minikube\n",
      "kubernetes-microbot-7b78749599-mdrgr   1/1       Terminating   0          35s       172.17.0.6   minikube\n",
      "kubernetes-microbot-7f9f48b956-2w6dj   1/1       Running       0          1s        172.17.0.9   minikube\n",
      "kubernetes-microbot-7f9f48b956-j6z8l   0/1       Pending       0          0s        <none>       minikube\n",
      "kubernetes-microbot-7f9f48b956-qlmc6   1/1       Running       0          1s        172.17.0.8   minikube\n",
      "kubernetes-microbot-7f9f48b956-t4cs5   0/1       Pending       0          0s        <none>       minikube\n"
     ]
    }
   ],
   "source": [
    "kubectl get pods -o wide"
   ]
  },
  {
   "cell_type": "code",
   "execution_count": 67,
   "metadata": {},
   "outputs": [
    {
     "name": "stdout",
     "output_type": "stream",
     "text": [
      "NAME                  DESIRED   CURRENT   UP-TO-DATE   AVAILABLE   AGE\n",
      "kubernetes-microbot   4         4         4            4           11m\n"
     ]
    }
   ],
   "source": [
    "kubectl get deployments"
   ]
  },
  {
   "cell_type": "code",
   "execution_count": 68,
   "metadata": {},
   "outputs": [
    {
     "name": "stdout",
     "output_type": "stream",
     "text": [
      "deployment \"kubernetes-microbot\" successfully rolled out\n"
     ]
    }
   ],
   "source": [
    "kubectl rollout status deployments/kubernetes-microbot"
   ]
  },
  {
   "cell_type": "markdown",
   "metadata": {},
   "source": [
    "Let's try to update to v10"
   ]
  },
  {
   "cell_type": "code",
   "execution_count": 69,
   "metadata": {},
   "outputs": [
    {
     "name": "stdout",
     "output_type": "stream",
     "text": [
      "deployment \"kubernetes-microbot\" image updated\n"
     ]
    }
   ],
   "source": [
    "kubectl set image deployments/kubernetes-microbot kubernetes-microbot=dontrebootme/microbot:v10"
   ]
  },
  {
   "cell_type": "code",
   "execution_count": 70,
   "metadata": {},
   "outputs": [
    {
     "name": "stdout",
     "output_type": "stream",
     "text": [
      "NAME                  DESIRED   CURRENT   UP-TO-DATE   AVAILABLE   AGE\n",
      "kubernetes-microbot   4         5         2            3           11m\n"
     ]
    }
   ],
   "source": [
    "kubectl get deployments"
   ]
  },
  {
   "cell_type": "code",
   "execution_count": 72,
   "metadata": {},
   "outputs": [
    {
     "name": "stdout",
     "output_type": "stream",
     "text": [
      "NAME                                   READY     STATUS         RESTARTS   AGE\n",
      "kubernetes-microbot-7b78749599-9s4s2   0/1       Terminating    0          1m\n",
      "kubernetes-microbot-7b78749599-ccn6l   0/1       Terminating    0          12m\n",
      "kubernetes-microbot-7b78749599-dfzlj   0/1       Terminating    0          4m\n",
      "kubernetes-microbot-7b78749599-mdrgr   0/1       Terminating    0          1m\n",
      "kubernetes-microbot-7f9f48b956-2w6dj   1/1       Running        0          1m\n",
      "kubernetes-microbot-7f9f48b956-j6z8l   0/1       Terminating    0          1m\n",
      "kubernetes-microbot-7f9f48b956-qlmc6   1/1       Running        0          1m\n",
      "kubernetes-microbot-7f9f48b956-t4cs5   1/1       Running        0          1m\n",
      "kubernetes-microbot-8658647c4c-84mw9   0/1       ErrImagePull   0          42s\n",
      "kubernetes-microbot-8658647c4c-tfj9w   0/1       ErrImagePull   0          42s\n"
     ]
    }
   ],
   "source": [
    "kubectl get pods"
   ]
  },
  {
   "cell_type": "markdown",
   "metadata": {},
   "source": [
    "There is no image v10. Let's roll back."
   ]
  },
  {
   "cell_type": "code",
   "execution_count": 73,
   "metadata": {},
   "outputs": [
    {
     "name": "stdout",
     "output_type": "stream",
     "text": [
      "deployment \"kubernetes-microbot\" rolled back\n"
     ]
    }
   ],
   "source": [
    "kubectl rollout undo deployments/kubernetes-microbot"
   ]
  },
  {
   "cell_type": "code",
   "execution_count": 74,
   "metadata": {},
   "outputs": [
    {
     "name": "stdout",
     "output_type": "stream",
     "text": [
      "NAME                  DESIRED   CURRENT   UP-TO-DATE   AVAILABLE   AGE\n",
      "kubernetes-microbot   4         4         4            4           12m\n"
     ]
    }
   ],
   "source": [
    "kubectl get deployments"
   ]
  },
  {
   "cell_type": "code",
   "execution_count": 75,
   "metadata": {},
   "outputs": [
    {
     "name": "stdout",
     "output_type": "stream",
     "text": [
      "NAME                                   READY     STATUS        RESTARTS   AGE\n",
      "kubernetes-microbot-7f9f48b956-2w6dj   1/1       Running       0          1m\n",
      "kubernetes-microbot-7f9f48b956-qlmc6   1/1       Running       0          1m\n",
      "kubernetes-microbot-7f9f48b956-t4cs5   1/1       Running       0          1m\n",
      "kubernetes-microbot-7f9f48b956-wkxr9   1/1       Running       0          8s\n",
      "kubernetes-microbot-8658647c4c-84mw9   0/1       Terminating   0          57s\n"
     ]
    }
   ],
   "source": [
    "kubectl get pods"
   ]
  },
  {
   "cell_type": "markdown",
   "metadata": {},
   "source": [
    "We are back to the v2 image"
   ]
  }
 ],
 "metadata": {
  "kernelspec": {
   "display_name": "Bash",
   "language": "bash",
   "name": "bash"
  },
  "language_info": {
   "codemirror_mode": "shell",
   "file_extension": ".sh",
   "mimetype": "text/x-sh",
   "name": "bash"
  }
 },
 "nbformat": 4,
 "nbformat_minor": 2
}
